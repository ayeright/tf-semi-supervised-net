{
 "cells": [
  {
   "cell_type": "markdown",
   "metadata": {},
   "source": [
    "### Some setup"
   ]
  },
  {
   "cell_type": "code",
   "execution_count": 1,
   "metadata": {},
   "outputs": [
    {
     "name": "stderr",
     "output_type": "stream",
     "text": [
      "C:\\Users\\scott\\Anaconda3\\lib\\site-packages\\h5py\\__init__.py:34: FutureWarning: Conversion of the second argument of issubdtype from `float` to `np.floating` is deprecated. In future, it will be treated as `np.float64 == np.dtype(float).type`.\n",
      "  from ._conv import register_converters as _register_converters\n"
     ]
    }
   ],
   "source": [
    "import tensorflow as tf\n",
    "from semi_supervised_net import SemiSupervisedBinaryClassificationNet\n",
    "from sklearn.datasets import load_breast_cancer\n",
    "from sklearn.preprocessing import StandardScaler\n",
    "from sklearn.metrics import log_loss"
   ]
  },
  {
   "cell_type": "markdown",
   "metadata": {},
   "source": [
    "### Load data and split into labelled and unlabelled training data and validation data"
   ]
  },
  {
   "cell_type": "code",
   "execution_count": 2,
   "metadata": {
    "collapsed": true
   },
   "outputs": [],
   "source": [
    "X, y = load_breast_cancer(return_X_y=True)\n",
    "scaler = StandardScaler()\n",
    "X = scaler.fit_transform(X)\n",
    "X_l_train = X[:190]\n",
    "y_l_train = y[:190]\n",
    "X_u_train = X[190:380]\n",
    "y_u_train = y[190:380]\n",
    "X_l_val = X[380:]\n",
    "y_l_val = y[380:]"
   ]
  },
  {
   "cell_type": "markdown",
   "metadata": {},
   "source": [
    "### Initialise network"
   ]
  },
  {
   "cell_type": "code",
   "execution_count": 3,
   "metadata": {},
   "outputs": [],
   "source": [
    "# define network parameters\n",
    "layers = {1: {'dim': 20, 'activation': tf.nn.relu, 'dropout_rate': 0.5, 'batch_norm': True},\n",
    "         2: {'dim': 20, 'activation': tf.nn.relu, 'dropout_rate': 0.5, 'batch_norm': True}}\n",
    "initialiser = tf.keras.initializers.glorot_uniform()\n",
    "l2_reg = 0.01\n",
    "optimiser = tf.train.AdamOptimizer()\n",
    "lambda_u = 0.01\n",
    "\n",
    "# initialise network\n",
    "model = SemiSupervisedBinaryClassificationNet(layers=layers,\n",
    "                                             initialiser=initialiser,\n",
    "                                             l2_reg=l2_reg,\n",
    "                                             optimiser=optimiser,\n",
    "                                             lambda_u=lambda_u)"
   ]
  },
  {
   "cell_type": "markdown",
   "metadata": {},
   "source": [
    "### Train  for an initial 10 epochs"
   ]
  },
  {
   "cell_type": "code",
   "execution_count": 4,
   "metadata": {},
   "outputs": [
    {
     "name": "stdout",
     "output_type": "stream",
     "text": [
      "+-----------------------------------------------------------+\n",
      "Running epoch 1 of 10\n",
      "Training loss = 0.6635070645103329\n",
      "Validation loss = 0.7625946267729714\n",
      "+-----------------------------------------------------------+\n",
      "Running epoch 2 of 10\n",
      "Training loss = 0.6235642818636016\n",
      "Validation loss = 0.7165681012763233\n",
      "+-----------------------------------------------------------+\n",
      "Running epoch 3 of 10\n",
      "Training loss = 0.5911237512568109\n",
      "Validation loss = 0.6778144101420093\n",
      "+-----------------------------------------------------------+\n",
      "Running epoch 4 of 10\n",
      "Training loss = 0.5620849351153562\n",
      "Validation loss = 0.64433300357174\n",
      "+-----------------------------------------------------------+\n",
      "Running epoch 5 of 10\n",
      "Training loss = 0.5314656098520285\n",
      "Validation loss = 0.6104673884572491\n",
      "+-----------------------------------------------------------+\n",
      "Running epoch 6 of 10\n",
      "Training loss = 0.5036832142327177\n",
      "Validation loss = 0.5808127601606348\n",
      "+-----------------------------------------------------------+\n",
      "Running epoch 7 of 10\n",
      "Training loss = 0.48109002775561654\n",
      "Validation loss = 0.5567147325645522\n",
      "+-----------------------------------------------------------+\n",
      "Running epoch 8 of 10\n",
      "Training loss = 0.458817591836774\n",
      "Validation loss = 0.5346724133071288\n",
      "+-----------------------------------------------------------+\n",
      "Running epoch 9 of 10\n",
      "Training loss = 0.43870466081425546\n",
      "Validation loss = 0.5147056269838854\n",
      "+-----------------------------------------------------------+\n",
      "Running epoch 10 of 10\n",
      "Training loss = 0.4212114544585347\n",
      "Validation loss = 0.49694817253048457\n"
     ]
    }
   ],
   "source": [
    "model.fit(X_l_train, \n",
    "        y_l_train, \n",
    "        X_u_train, \n",
    "        X_l_val,\n",
    "        y_l_val,\n",
    "        batch_size=32, \n",
    "        num_epochs=10, \n",
    "        patience=10,\n",
    "        verbose=True)"
   ]
  },
  {
   "cell_type": "markdown",
   "metadata": {},
   "source": [
    "### Train for a further 10 epochs"
   ]
  },
  {
   "cell_type": "code",
   "execution_count": 5,
   "metadata": {},
   "outputs": [
    {
     "name": "stdout",
     "output_type": "stream",
     "text": [
      "INFO:tensorflow:Restoring parameters from /tmp/my_model_final.ckpt\n",
      "+-----------------------------------------------------------+\n",
      "Running epoch 1 of 10\n",
      "Training loss = 0.40555877322821243\n",
      "Validation loss = 0.4801880729645885\n",
      "+-----------------------------------------------------------+\n",
      "Running epoch 2 of 10\n",
      "Training loss = 0.39221664955839514\n",
      "Validation loss = 0.4667226516163696\n",
      "+-----------------------------------------------------------+\n",
      "Running epoch 3 of 10\n",
      "Training loss = 0.37695331168606094\n",
      "Validation loss = 0.45081892110427063\n",
      "+-----------------------------------------------------------+\n",
      "Running epoch 4 of 10\n",
      "Training loss = 0.36365545829512963\n",
      "Validation loss = 0.4362638322587209\n",
      "+-----------------------------------------------------------+\n",
      "Running epoch 5 of 10\n",
      "Training loss = 0.3508303942992107\n",
      "Validation loss = 0.42391244623139895\n",
      "+-----------------------------------------------------------+\n",
      "Running epoch 6 of 10\n",
      "Training loss = 0.33807855015375504\n",
      "Validation loss = 0.4111416418223627\n",
      "+-----------------------------------------------------------+\n",
      "Running epoch 7 of 10\n",
      "Training loss = 0.3267099819954877\n",
      "Validation loss = 0.40022626781353243\n",
      "+-----------------------------------------------------------+\n",
      "Running epoch 8 of 10\n",
      "Training loss = 0.3154196464652686\n",
      "Validation loss = 0.3892854732564754\n",
      "+-----------------------------------------------------------+\n",
      "Running epoch 9 of 10\n",
      "Training loss = 0.30417992529998483\n",
      "Validation loss = 0.37765768773498987\n",
      "+-----------------------------------------------------------+\n",
      "Running epoch 10 of 10\n",
      "Training loss = 0.2920479303740553\n",
      "Validation loss = 0.36755607719656336\n"
     ]
    }
   ],
   "source": [
    "# continue training\n",
    "model.fit(X_l_train, \n",
    "        y_l_train, \n",
    "        X_u_train, \n",
    "        X_l_val,\n",
    "        y_l_val,\n",
    "        batch_size=32, \n",
    "        num_epochs=10, \n",
    "        patience=10,\n",
    "        verbose=True)"
   ]
  },
  {
   "cell_type": "markdown",
   "metadata": {},
   "source": [
    "### Compute training and validation loss (should be same as last epoch)"
   ]
  },
  {
   "cell_type": "code",
   "execution_count": 6,
   "metadata": {},
   "outputs": [
    {
     "name": "stdout",
     "output_type": "stream",
     "text": [
      "INFO:tensorflow:Restoring parameters from /tmp/my_model_final.ckpt\n",
      "INFO:tensorflow:Restoring parameters from /tmp/my_model_final.ckpt\n",
      "Training loss = 0.2920479277050224\n",
      "Validation loss = 0.36755607856198214\n"
     ]
    }
   ],
   "source": [
    "p_train = model.predict(X_l_train)\n",
    "loss_train = log_loss(y_l_train, p_train, eps=1e-5)\n",
    "\n",
    "p_val = model.predict(X_l_val)\n",
    "loss_val = log_loss(y_l_val, p_val, eps=1e-5)\n",
    "\n",
    "print('Training loss =', loss_train)\n",
    "print('Validation loss =', loss_val)"
   ]
  },
  {
   "cell_type": "code",
   "execution_count": null,
   "metadata": {
    "collapsed": true
   },
   "outputs": [],
   "source": []
  }
 ],
 "metadata": {
  "kernelspec": {
   "display_name": "Python 3",
   "language": "python",
   "name": "python3"
  },
  "language_info": {
   "codemirror_mode": {
    "name": "ipython",
    "version": 3
   },
   "file_extension": ".py",
   "mimetype": "text/x-python",
   "name": "python",
   "nbconvert_exporter": "python",
   "pygments_lexer": "ipython3",
   "version": "3.6.1"
  }
 },
 "nbformat": 4,
 "nbformat_minor": 2
}
